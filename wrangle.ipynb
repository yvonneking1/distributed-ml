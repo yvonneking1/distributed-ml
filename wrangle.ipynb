{
 "cells": [
  {
   "cell_type": "code",
   "execution_count": 1,
   "metadata": {},
   "outputs": [],
   "source": [
    "import pyspark\n",
    "from pyspark.sql.functions import *\n",
    "\n",
    "spark = pyspark.sql.SparkSession.builder.getOrCreate()"
   ]
  },
  {
   "cell_type": "markdown",
   "metadata": {},
   "source": [
    "## Data Prep"
   ]
  },
  {
   "cell_type": "code",
   "execution_count": 3,
   "metadata": {},
   "outputs": [
    {
     "name": "stdout",
     "output_type": "stream",
     "text": [
      "nrows: 841704\n",
      "stray animal cases: 26760\n"
     ]
    }
   ],
   "source": [
    "df = spark.read.csv('case.csv', header=True, inferSchema=True)\n",
    "print('nrows:', df.count())\n",
    "stray_animal_cases = df.filter(df.service_request_type == 'Stray Animal').count()\n",
    "print('stray animal cases:', stray_animal_cases)"
   ]
  },
  {
   "cell_type": "code",
   "execution_count": 4,
   "metadata": {},
   "outputs": [],
   "source": [
    "# Rename column\n",
    "df = df.withColumnRenamed('SLA_due_date', 'case_due_date')\n",
    "\n",
    "# Convert to better data types\n",
    "df = (\n",
    "    df.withColumn('case_late', col('case_late') == 'YES')\n",
    "    .withColumn('case_closed', col('case_closed') == 'YES')\n",
    ")\n",
    "df = df.withColumn('council_district', format_string('%04d', col('council_district')))\n",
    "df = (\n",
    "    df.withColumn('case_opened_date', to_timestamp(col('case_opened_date'), 'M/d/yy H:mm'))\n",
    "    .withColumn('case_closed_date', to_timestamp(col('case_closed_date'), 'M/d/yy H:mm'))\n",
    "    .withColumn('case_due_date', to_timestamp(col('case_due_date'), 'M/d/yy H:mm'))\n",
    ")\n",
    "\n",
    "# Cleanup text data\n",
    "df = df.withColumn('request_address', lower(trim(col('request_address'))))\n",
    "# Extract zipcode\n",
    "df = df.withColumn('zipcode', regexp_extract(col('request_address'), r'\\d+$', 0))\n",
    "\n",
    "# Create a `case_lifetime` feature\n",
    "df = (\n",
    "    df.withColumn('case_age', datediff(current_timestamp(), 'case_opened_date'))\n",
    "    .withColumn('days_to_closed', datediff('case_closed_date', 'case_opened_date'))\n",
    "    .withColumn('case_lifetime', when(col('case_closed'), col('days_to_closed')).otherwise(col('case_age')))\n",
    "    .drop('case_age', 'days_to_closed')\n",
    ")\n",
    "\n",
    "# Join departments and sources\n",
    "depts = spark.read.csv('dept.csv', header=True, inferSchema=True)\n",
    "sources = spark.read.csv('source.csv', header=True, inferSchema=True)\n",
    "\n",
    "df = df.join(depts, 'dept_division', 'left').join(sources, 'source_id', 'left')\n",
    "\n",
    "# # Train Test Split\n",
    "# train, test = df.randomSplit([.8, .2])\n",
    "# train, validate, test = df.randomSplit([.7, .15, .15], seed=123)"
   ]
  },
  {
   "cell_type": "code",
   "execution_count": 5,
   "metadata": {},
   "outputs": [
    {
     "data": {
      "text/plain": [
       "855269"
      ]
     },
     "execution_count": 5,
     "metadata": {},
     "output_type": "execute_result"
    }
   ],
   "source": [
    "df.count()"
   ]
  },
  {
   "cell_type": "markdown",
   "metadata": {},
   "source": [
    "In case we want to query our dataframe with Spark SQL:"
   ]
  },
  {
   "cell_type": "code",
   "execution_count": 6,
   "metadata": {},
   "outputs": [],
   "source": [
    "df.createOrReplaceTempView('df')"
   ]
  },
  {
   "cell_type": "code",
   "execution_count": 7,
   "metadata": {},
   "outputs": [
    {
     "name": "stdout",
     "output_type": "stream",
     "text": [
      "+-------------+\n",
      "|days_past_due|\n",
      "+-------------+\n",
      "|         1243|\n",
      "|         1243|\n",
      "|         1243|\n",
      "|         1242|\n",
      "|         1240|\n",
      "|         1236|\n",
      "|         1236|\n",
      "|         1235|\n",
      "|         1234|\n",
      "|         1234|\n",
      "|         1230|\n",
      "|         1229|\n",
      "|         1229|\n",
      "|         1229|\n",
      "|         1226|\n",
      "+-------------+\n",
      "\n"
     ]
    }
   ],
   "source": [
    "# How old is the latest (in terms of days past SLA) currently open issue?\n",
    "# How long has the oldest (in terms of days since opened) currently opened issue been open?\n",
    "spark.sql('''\n",
    "SELECT DATEDIFF(current_timestamp, case_due_date) AS days_past_due\n",
    "FROM df\n",
    "WHERE NOT case_closed\n",
    "ORDER BY days_past_due DESC\n",
    "LIMIT 15\n",
    "''').show()"
   ]
  },
  {
   "cell_type": "code",
   "execution_count": 8,
   "metadata": {},
   "outputs": [
    {
     "data": {
      "text/plain": [
       "27361"
      ]
     },
     "execution_count": 8,
     "metadata": {},
     "output_type": "execute_result"
    }
   ],
   "source": [
    "# How many Stray Animal cases are there?\n",
    "df.filter(df.service_request_type == 'Stray Animal').count()"
   ]
  },
  {
   "cell_type": "code",
   "execution_count": 9,
   "metadata": {},
   "outputs": [
    {
     "data": {
      "text/plain": [
       "116295"
      ]
     },
     "execution_count": 9,
     "metadata": {},
     "output_type": "execute_result"
    }
   ],
   "source": [
    "# How many service requests that are assigned to the Field Operations department (dept_division)\n",
    "# are not classified as \"Officer Standby\" request type (service_request_type)?\n",
    "(\n",
    "    df.filter(df.dept_division == 'Field Operations')\n",
    "    .filter(df.service_request_type != 'Officer Standby')\n",
    "    .count()\n",
    ")"
   ]
  },
  {
   "cell_type": "code",
   "execution_count": 10,
   "metadata": {},
   "outputs": [
    {
     "name": "stdout",
     "output_type": "stream",
     "text": [
      "+-------------------+----------------------+\n",
      "|   case_closed_date|year(case_closed_date)|\n",
      "+-------------------+----------------------+\n",
      "|2018-01-01 12:29:00|                  2018|\n",
      "|2018-01-03 08:11:00|                  2018|\n",
      "|2018-01-02 07:57:00|                  2018|\n",
      "|2018-01-02 08:13:00|                  2018|\n",
      "|2018-01-01 13:29:00|                  2018|\n",
      "+-------------------+----------------------+\n",
      "only showing top 5 rows\n",
      "\n"
     ]
    }
   ],
   "source": [
    "# Extract the year from the case_closed_date column.\n",
    "df.select('case_closed_date', year('case_closed_date')).show(5)"
   ]
  },
  {
   "cell_type": "code",
   "execution_count": 11,
   "metadata": {},
   "outputs": [
    {
     "name": "stdout",
     "output_type": "stream",
     "text": [
      "+-------------------+-------------------+\n",
      "|      num_days_late|     num_hours_late|\n",
      "+-------------------+-------------------+\n",
      "| -998.5087616000001|     -23964.2102784|\n",
      "|-2.0126041669999997|-48.302500007999996|\n",
      "|       -3.022337963|      -72.536111112|\n",
      "|       -15.01148148|      -360.27555552|\n",
      "|0.37216435200000003|  8.931944448000001|\n",
      "|       -29.74398148| -713.8555555199999|\n",
      "|       -14.70673611|      -352.96166664|\n",
      "|       -14.70662037|      -352.95888888|\n",
      "|       -14.70662037|      -352.95888888|\n",
      "|       -14.70649306|      -352.95583344|\n",
      "|       -14.70649306|      -352.95583344|\n",
      "|       -14.70636574|      -352.95277776|\n",
      "|          -14.70625|-352.95000000000005|\n",
      "|       -14.70636574|      -352.95277776|\n",
      "|       -14.70623843|-352.94972232000003|\n",
      "|-14.705891199999998|-352.94138879999997|\n",
      "|       -14.70600694|      -352.94416656|\n",
      "|       -14.70576389|      -352.93833336|\n",
      "|       -14.70576389|      -352.93833336|\n",
      "|       -14.70564815|       -352.9355556|\n",
      "+-------------------+-------------------+\n",
      "only showing top 20 rows\n",
      "\n"
     ]
    }
   ],
   "source": [
    "# Convert num_days_late from days to hours in new columns num_hours_late.\n",
    "(\n",
    "    df.withColumn('num_hours_late', df.num_days_late * 24)\n",
    "    .select('num_days_late', 'num_hours_late')\n",
    "    .show()\n",
    ")"
   ]
  },
  {
   "cell_type": "code",
   "execution_count": 12,
   "metadata": {},
   "outputs": [
    {
     "name": "stdout",
     "output_type": "stream",
     "text": [
      "+------------+\n",
      "|sum(is_null)|\n",
      "+------------+\n",
      "|           0|\n",
      "+------------+\n",
      "\n"
     ]
    }
   ],
   "source": [
    "# Are there any cases that do not have a request source?\n",
    "# are there any null values for source_id?\n",
    "(\n",
    "    df.select(df.source_id.isNull().cast('int').alias('is_null'))\n",
    "    .agg(sum('is_null'))\n",
    "    .show()\n",
    ")"
   ]
  },
  {
   "cell_type": "code",
   "execution_count": 13,
   "metadata": {},
   "outputs": [
    {
     "name": "stdout",
     "output_type": "stream",
     "text": [
      "+--------------------------------+-----+\n",
      "|service_request_type            |count|\n",
      "+--------------------------------+-----+\n",
      "|No Pickup                       |89210|\n",
      "|Overgrown Yard/Trash            |66403|\n",
      "|Bandit Signs                    |32968|\n",
      "|Damaged Cart                    |31163|\n",
      "|Front Or Side Yard Parking      |28920|\n",
      "|Stray Animal                    |27361|\n",
      "|Aggressive Animal(Non-Critical) |25492|\n",
      "|Cart Exchange Request           |22608|\n",
      "|Junk Vehicle On Private Property|21649|\n",
      "|Pot Hole Repair                 |20827|\n",
      "+--------------------------------+-----+\n",
      "only showing top 10 rows\n",
      "\n"
     ]
    }
   ],
   "source": [
    "# What are the top 10 service request types in terms of number of requests?\n",
    "(\n",
    "    df.groupby('service_request_type')\n",
    "    .count()\n",
    "    .sort(col('count').desc())\n",
    "    .show(10, truncate=False)\n",
    ")"
   ]
  },
  {
   "cell_type": "code",
   "execution_count": 14,
   "metadata": {},
   "outputs": [
    {
     "name": "stdout",
     "output_type": "stream",
     "text": [
      "+--------------------------------------+------------------+-------+\n",
      "|service_request_type                  |n_days_late       |n_cases|\n",
      "+--------------------------------------+------------------+-------+\n",
      "|Zoning: Recycle Yard                  |210.89201994318182|132    |\n",
      "|Zoning: Junk Yards                    |200.2051760849428 |262    |\n",
      "|Structure/Housing Maintenance         |190.20707698509807|51     |\n",
      "|Donation Container Enforcement        |171.09115313942624|122    |\n",
      "|Storage of Used Mattress              |163.96812829714287|7      |\n",
      "|Labeling for Used Mattress            |162.43032902285717|7      |\n",
      "|Record Keeping of Used Mattresses     |153.99724039428568|7      |\n",
      "|Signage Requied for Sale of Used Mattr|151.63868055333333|12     |\n",
      "|Traffic Signal Graffiti               |137.64583330000002|4      |\n",
      "|License Requied Used Mattress Sales   |128.79828704142858|7      |\n",
      "+--------------------------------------+------------------+-------+\n",
      "only showing top 10 rows\n",
      "\n"
     ]
    }
   ],
   "source": [
    "# What are the top 10 service request types in terms of average days late?\n",
    "# - just the late cases\n",
    "# - for the late cases:\n",
    "#   - what is the average number of days late by request type?\n",
    "(\n",
    "    df.where('case_late') # just the rows where case_late == true\n",
    "    .groupBy('service_request_type')\n",
    "    .agg(mean('num_days_late').alias('n_days_late'), count('*').alias('n_cases'))\n",
    "    .sort(desc('n_days_late'))\n",
    "    .show(10, truncate=False)\n",
    ")"
   ]
  },
  {
   "cell_type": "code",
   "execution_count": 15,
   "metadata": {},
   "outputs": [
    {
     "name": "stdout",
     "output_type": "stream",
     "text": [
      "+-------------------------+---------+------------+\n",
      "|dept_name                |days_late|n_cases_late|\n",
      "+-------------------------+---------+------------+\n",
      "|Metro Health             |6.5      |854         |\n",
      "|Solid Waste Management   |7.1      |33729       |\n",
      "|Trans & Cap Improvements |10.7     |5529        |\n",
      "|Parks and Recreation     |22.4     |3810        |\n",
      "|Animal Care Services     |23.4     |23751       |\n",
      "|Code Enforcement Services|48.1     |25467       |\n",
      "|Development Services     |67.2     |840         |\n",
      "|Customer Service         |88.2     |2035        |\n",
      "|null                     |210.9    |132         |\n",
      "+-------------------------+---------+------------+\n",
      "\n"
     ]
    }
   ],
   "source": [
    "# Does number of days late depend on department?\n",
    "(\n",
    "    df.filter('case_late')\n",
    "    .groupby('dept_name')\n",
    "    .agg(mean('num_days_late').alias('days_late'), count('num_days_late').alias('n_cases_late'))\n",
    "    .sort('days_late')\n",
    "    .withColumn('days_late', round(col('days_late'), 1))\n",
    "    .show(truncate=False)\n",
    ")"
   ]
  },
  {
   "cell_type": "code",
   "execution_count": 16,
   "metadata": {},
   "outputs": [
    {
     "name": "stdout",
     "output_type": "stream",
     "text": [
      "+--------------------+------+\n",
      "|           dept_name| count|\n",
      "+--------------------+------+\n",
      "|Animal Care Services|119362|\n",
      "|                null|   198|\n",
      "|Solid Waste Manag...|286287|\n",
      "|Development Services|  1397|\n",
      "|Trans & Cap Impro...| 97841|\n",
      "|    Customer Service|  2889|\n",
      "|        Metro Health|  5313|\n",
      "|Parks and Recreation| 19964|\n",
      "|Code Enforcement ...|321984|\n",
      "|        City Council|    34|\n",
      "+--------------------+------+\n",
      "\n"
     ]
    }
   ],
   "source": [
    "df.groupby('dept_name').count().show()"
   ]
  },
  {
   "cell_type": "code",
   "execution_count": 17,
   "metadata": {},
   "outputs": [
    {
     "name": "stdout",
     "output_type": "stream",
     "text": [
      "+----------------------+--------------------------------------------+---------+-------+\n",
      "|standardized_dept_name|service_request_type                        |days_late|n_cases|\n",
      "+----------------------+--------------------------------------------+---------+-------+\n",
      "|DSD/Code Enforcement  |Zoning: Recycle Yard                        |273.6    |75     |\n",
      "|DSD/Code Enforcement  |Zoning: Junk Yards                          |251.9    |146    |\n",
      "|DSD/Code Enforcement  |Donation Container Enforcement              |201.7    |82     |\n",
      "|DSD/Code Enforcement  |Structure/Housing Maintenance               |182.4    |30     |\n",
      "|DSD/Code Enforcement  |Graffiti: Private Property (Corridors)      |175.1    |3      |\n",
      "|DSD/Code Enforcement  |Storage of Used Mattress                    |164.0    |7      |\n",
      "|DSD/Code Enforcement  |Labeling for Used Mattress                  |162.4    |7      |\n",
      "|DSD/Code Enforcement  |Record Keeping of Used Mattresses           |154.0    |7      |\n",
      "|DSD/Code Enforcement  |Signage Requied for Sale of Used Mattr      |151.6    |12     |\n",
      "|DSD/Code Enforcement  |License Requied Used Mattress Sales         |128.8    |7      |\n",
      "|DSD/Code Enforcement  |Vendors                                     |127.3    |103    |\n",
      "|DSD/Code Enforcement  |Curbstoning                                 |121.8    |100    |\n",
      "|DSD/Code Enforcement  |DSDB Ordered/Hold Harmless/Regular-ALL      |119.8    |40     |\n",
      "|DSD/Code Enforcement  |CPS Energy Wood Poles                       |115.2    |1      |\n",
      "|DSD/Code Enforcement  |Used Mattress Inspection                    |108.1    |16     |\n",
      "|DSD/Code Enforcement  |DSDB Ordered/Hold Harmless/Regular: Main    |106.4    |86     |\n",
      "|DSD/Code Enforcement  |DSDB Ordered/Hold Harmless/Regular: ASEC    |104.7    |41     |\n",
      "|DSD/Code Enforcement  |Zoning: Mobile Homes                        |103.8    |5      |\n",
      "|DSD/Code Enforcement  |Certificates of Occupancy                   |103.3    |91     |\n",
      "|DSD/Code Enforcement  |Zoning: Setbacks                            |98.4     |80     |\n",
      "|DSD/Code Enforcement  |Wasting Water (Leaks)                       |91.3     |4      |\n",
      "|DSD/Code Enforcement  |Street Light New Development                |91.1     |16     |\n",
      "|DSD/Code Enforcement  |Zoning: District Requirement                |89.3     |241    |\n",
      "|DSD/Code Enforcement  |Permits Building                            |84.4     |1413   |\n",
      "|DSD/Code Enforcement  |Vacant Lot: Over 12\"\"                       |82.1     |1      |\n",
      "|Customer Service      |Complaint                                   |81.5     |939    |\n",
      "|DSD/Code Enforcement  |Low Hanging Limbs on Streets/Sidewalk       |78.6     |19     |\n",
      "|Parks & Recreation    |Major Park Improvement Install              |75.8     |17     |\n",
      "|DSD/Code Enforcement  |Zoning: Outside Storage                     |74.2     |16     |\n",
      "|DSD/Code Enforcement  |Dart Preliminary Inspection                 |74.0     |8      |\n",
      "|DSD/Code Enforcement  |Dumpsters: Maintenance/Sanitation           |73.2     |38     |\n",
      "|DSD/Code Enforcement  |Used/Scrap Tire Facility Periodic Inspection|72.9     |8      |\n",
      "|DSD/Code Enforcement  |\"Vacant Lot-State (12\"\")\"                   |72.1     |2      |\n",
      "|Animal Care Services  |Animal Permits Request                      |72.0     |1218   |\n",
      "|DSD/Code Enforcement  |No Address Posted                           |72.0     |754    |\n",
      "|Animal Care Services  |Public Nuisance(Own Animal)                 |71.2     |976    |\n",
      "|DSD/Code Enforcement  |Zoning Business in Resident Area            |70.9     |90     |\n",
      "|DSD/Code Enforcement  |Water No Services                           |69.5     |11     |\n",
      "|DSD/Code Enforcement  |Discharge Into Pub. Waters/St               |69.3     |1      |\n",
      "|DSD/Code Enforcement  |Zoning: Multi-Family In Single              |67.8     |42     |\n",
      "+----------------------+--------------------------------------------+---------+-------+\n",
      "only showing top 40 rows\n",
      "\n"
     ]
    }
   ],
   "source": [
    "# How do number of days late depend on department and request type?\n",
    "(\n",
    "    df.filter(\"case_closed\")\n",
    "    .filter(\"case_late\")\n",
    "    .groupby(\"standardized_dept_name\", \"service_request_type\")\n",
    "    .agg(avg(\"num_days_late\").alias(\"days_late\"), count(\"*\").alias(\"n_cases\"))\n",
    "    .withColumn(\"days_late\", round(col(\"days_late\"), 1))\n",
    "    .sort(desc(\"days_late\"))\n",
    "    .show(40, truncate=False)\n",
    ")"
   ]
  },
  {
   "cell_type": "markdown",
   "metadata": {},
   "source": [
    "## Dates\n",
    "- ```.first```: give us the first row object\n",
    "- ```.head(n)```: give us a list of the first n row objects\n",
    "- ```.collect()```: turns all the rows into a list of row objects be careful here"
   ]
  },
  {
   "cell_type": "code",
   "execution_count": 18,
   "metadata": {},
   "outputs": [
    {
     "data": {
      "text/plain": [
       "[Row(max(case_opened_date)=datetime.datetime(2018, 8, 8, 10, 38))]"
      ]
     },
     "execution_count": 18,
     "metadata": {},
     "output_type": "execute_result"
    }
   ],
   "source": [
    "df.select(max('case_opened_date')).collect()"
   ]
  },
  {
   "cell_type": "code",
   "execution_count": 19,
   "metadata": {},
   "outputs": [
    {
     "data": {
      "text/plain": [
       "datetime.datetime(2018, 8, 8, 10, 38)"
      ]
     },
     "execution_count": 19,
     "metadata": {},
     "output_type": "execute_result"
    }
   ],
   "source": [
    "max_date = df.select(max('case_opened_date'), max('case_closed_date')).first()[0]\n",
    "max_date"
   ]
  },
  {
   "cell_type": "code",
   "execution_count": 20,
   "metadata": {},
   "outputs": [],
   "source": [
    "max_date = max_date.strftime('%Y-%m-%d %H:%M:%S')\n",
    "\n",
    "df = (\n",
    "    df.withColumn('case_age', datediff(lit(max_date), 'case_opened_date'))\n",
    "    .withColumn('days_to_closed', datediff('case_closed_date', 'case_opened_date'))\n",
    "    .withColumn('case_lifetime', when(col('case_closed'), col('days_to_closed')).otherwise(col('case_age')))\n",
    "    .drop('case_age', 'days_to_closed')\n",
    ")"
   ]
  },
  {
   "cell_type": "code",
   "execution_count": null,
   "metadata": {},
   "outputs": [],
   "source": []
  }
 ],
 "metadata": {
  "kernelspec": {
   "display_name": "Python 3",
   "language": "python",
   "name": "python3"
  },
  "language_info": {
   "codemirror_mode": {
    "name": "ipython",
    "version": 3
   },
   "file_extension": ".py",
   "mimetype": "text/x-python",
   "name": "python",
   "nbconvert_exporter": "python",
   "pygments_lexer": "ipython3",
   "version": "3.7.4"
  }
 },
 "nbformat": 4,
 "nbformat_minor": 4
}
